{
  "nbformat": 4,
  "nbformat_minor": 0,
  "metadata": {
    "colab": {
      "name": "IP_wk_4_Sheri_Njoroge.ipynb",
      "provenance": [],
      "toc_visible": true
    },
    "kernelspec": {
      "name": "python3",
      "display_name": "Python 3"
    },
    "language_info": {
      "name": "python"
    }
  },
  "cells": [
    {
      "cell_type": "markdown",
      "metadata": {
        "id": "84OWW758BFXU"
      },
      "source": [
        "#  Investigation on a claim about the blue cars from the Autolib dataset."
      ]
    },
    {
      "cell_type": "markdown",
      "metadata": {
        "id": "_A8LRhzGvMwh"
      },
      "source": [
        "## Reading the data\n"
      ]
    },
    {
      "cell_type": "code",
      "metadata": {
        "id": "y75YzZgXvav-"
      },
      "source": [
        "# Importing all important libraries in context to our research.\n",
        "# \n",
        "import pandas as pd\n",
        "import numpy as np\n",
        "import matplotlib.pyplot as plt\n",
        "import seaborn as sns\n",
        "from scipy import stats\n"
      ],
      "execution_count": null,
      "outputs": []
    },
    {
      "cell_type": "code",
      "metadata": {
        "colab": {
          "base_uri": "https://localhost:8080/"
        },
        "id": "66jfkMIIvoyY",
        "outputId": "d580a18b-0d26-4560-b46a-311cc8239df1"
      },
      "source": [
        "# loading our data sets\n",
        "#\n",
        "# data url = 'http://bit.ly/DSCoreAutolibDataset'\n",
        "df_autolib = pd.read_csv('http://bit.ly/DSCoreAutolibDataset')\n",
        "print(df_autolib)"
      ],
      "execution_count": null,
      "outputs": [
        {
          "output_type": "stream",
          "text": [
            "       Postal code       date  ...  Slots_freed_sum  Slots_taken_sum\n",
            "0            75001   1/1/2018  ...               22               20\n",
            "1            75001   1/2/2018  ...               23               22\n",
            "2            75001   1/3/2018  ...               27               27\n",
            "3            75001   1/4/2018  ...               25               21\n",
            "4            75001   1/5/2018  ...               18               20\n",
            "...            ...        ...  ...              ...              ...\n",
            "16080        95880  6/15/2018  ...                0                0\n",
            "16081        95880  6/16/2018  ...                0                0\n",
            "16082        95880  6/17/2018  ...                0                0\n",
            "16083        95880  6/18/2018  ...                0                0\n",
            "16084        95880  6/19/2018  ...                0                0\n",
            "\n",
            "[16085 rows x 13 columns]\n"
          ],
          "name": "stdout"
        }
      ]
    },
    {
      "cell_type": "markdown",
      "metadata": {
        "id": "uT-mnRD32T19"
      },
      "source": [
        "## Checking the Data"
      ]
    },
    {
      "cell_type": "code",
      "metadata": {
        "colab": {
          "base_uri": "https://localhost:8080/"
        },
        "id": "UN2jt6XT2YaK",
        "outputId": "6b446340-7a7a-4a17-da91-f858bb3ec45d"
      },
      "source": [
        "# Determining the no. of records in our dataset\n",
        "df_autolib.shape"
      ],
      "execution_count": null,
      "outputs": [
        {
          "output_type": "execute_result",
          "data": {
            "text/plain": [
              "(16085, 13)"
            ]
          },
          "metadata": {
            "tags": []
          },
          "execution_count": 3
        }
      ]
    },
    {
      "cell_type": "code",
      "metadata": {
        "colab": {
          "base_uri": "https://localhost:8080/"
        },
        "id": "EvN3166g3Yhe",
        "outputId": "40329136-f80a-4880-d993-88d025bca019"
      },
      "source": [
        "# previewing the bottom of our dataset\n",
        "df_autolib.tail()"
      ],
      "execution_count": null,
      "outputs": [
        {
          "output_type": "execute_result",
          "data": {
            "text/html": [
              "<div>\n",
              "<style scoped>\n",
              "    .dataframe tbody tr th:only-of-type {\n",
              "        vertical-align: middle;\n",
              "    }\n",
              "\n",
              "    .dataframe tbody tr th {\n",
              "        vertical-align: top;\n",
              "    }\n",
              "\n",
              "    .dataframe thead th {\n",
              "        text-align: right;\n",
              "    }\n",
              "</style>\n",
              "<table border=\"1\" class=\"dataframe\">\n",
              "  <thead>\n",
              "    <tr style=\"text-align: right;\">\n",
              "      <th></th>\n",
              "      <th>Postal code</th>\n",
              "      <th>date</th>\n",
              "      <th>n_daily_data_points</th>\n",
              "      <th>dayOfWeek</th>\n",
              "      <th>day_type</th>\n",
              "      <th>BlueCars_taken_sum</th>\n",
              "      <th>BlueCars_returned_sum</th>\n",
              "      <th>Utilib_taken_sum</th>\n",
              "      <th>Utilib_returned_sum</th>\n",
              "      <th>Utilib_14_taken_sum</th>\n",
              "      <th>Utilib_14_returned_sum</th>\n",
              "      <th>Slots_freed_sum</th>\n",
              "      <th>Slots_taken_sum</th>\n",
              "    </tr>\n",
              "  </thead>\n",
              "  <tbody>\n",
              "    <tr>\n",
              "      <th>16080</th>\n",
              "      <td>95880</td>\n",
              "      <td>6/15/2018</td>\n",
              "      <td>1440</td>\n",
              "      <td>4</td>\n",
              "      <td>weekday</td>\n",
              "      <td>15</td>\n",
              "      <td>10</td>\n",
              "      <td>0</td>\n",
              "      <td>0</td>\n",
              "      <td>2</td>\n",
              "      <td>3</td>\n",
              "      <td>0</td>\n",
              "      <td>0</td>\n",
              "    </tr>\n",
              "    <tr>\n",
              "      <th>16081</th>\n",
              "      <td>95880</td>\n",
              "      <td>6/16/2018</td>\n",
              "      <td>1440</td>\n",
              "      <td>5</td>\n",
              "      <td>weekend</td>\n",
              "      <td>19</td>\n",
              "      <td>19</td>\n",
              "      <td>0</td>\n",
              "      <td>0</td>\n",
              "      <td>2</td>\n",
              "      <td>1</td>\n",
              "      <td>0</td>\n",
              "      <td>0</td>\n",
              "    </tr>\n",
              "    <tr>\n",
              "      <th>16082</th>\n",
              "      <td>95880</td>\n",
              "      <td>6/17/2018</td>\n",
              "      <td>1440</td>\n",
              "      <td>6</td>\n",
              "      <td>weekend</td>\n",
              "      <td>33</td>\n",
              "      <td>35</td>\n",
              "      <td>1</td>\n",
              "      <td>1</td>\n",
              "      <td>0</td>\n",
              "      <td>0</td>\n",
              "      <td>0</td>\n",
              "      <td>0</td>\n",
              "    </tr>\n",
              "    <tr>\n",
              "      <th>16083</th>\n",
              "      <td>95880</td>\n",
              "      <td>6/18/2018</td>\n",
              "      <td>1440</td>\n",
              "      <td>0</td>\n",
              "      <td>weekday</td>\n",
              "      <td>11</td>\n",
              "      <td>14</td>\n",
              "      <td>3</td>\n",
              "      <td>5</td>\n",
              "      <td>2</td>\n",
              "      <td>2</td>\n",
              "      <td>0</td>\n",
              "      <td>0</td>\n",
              "    </tr>\n",
              "    <tr>\n",
              "      <th>16084</th>\n",
              "      <td>95880</td>\n",
              "      <td>6/19/2018</td>\n",
              "      <td>1370</td>\n",
              "      <td>1</td>\n",
              "      <td>weekday</td>\n",
              "      <td>2</td>\n",
              "      <td>2</td>\n",
              "      <td>2</td>\n",
              "      <td>1</td>\n",
              "      <td>0</td>\n",
              "      <td>0</td>\n",
              "      <td>0</td>\n",
              "      <td>0</td>\n",
              "    </tr>\n",
              "  </tbody>\n",
              "</table>\n",
              "</div>"
            ],
            "text/plain": [
              "       Postal code       date  ...  Slots_freed_sum  Slots_taken_sum\n",
              "16080        95880  6/15/2018  ...                0                0\n",
              "16081        95880  6/16/2018  ...                0                0\n",
              "16082        95880  6/17/2018  ...                0                0\n",
              "16083        95880  6/18/2018  ...                0                0\n",
              "16084        95880  6/19/2018  ...                0                0\n",
              "\n",
              "[5 rows x 13 columns]"
            ]
          },
          "metadata": {
            "tags": []
          },
          "execution_count": 4
        }
      ]
    },
    {
      "cell_type": "code",
      "metadata": {
        "colab": {
          "base_uri": "https://localhost:8080/"
        },
        "id": "24V2SjEn3l38",
        "outputId": "59540faa-c67f-4cac-acf1-2e0bfd2ed1dd"
      },
      "source": [
        "# Checking whether each column has an appropriate datatype\n",
        "df_autolib.dtypes"
      ],
      "execution_count": null,
      "outputs": [
        {
          "output_type": "execute_result",
          "data": {
            "text/plain": [
              "Postal code                int64\n",
              "date                      object\n",
              "n_daily_data_points        int64\n",
              "dayOfWeek                  int64\n",
              "day_type                  object\n",
              "BlueCars_taken_sum         int64\n",
              "BlueCars_returned_sum      int64\n",
              "Utilib_taken_sum           int64\n",
              "Utilib_returned_sum        int64\n",
              "Utilib_14_taken_sum        int64\n",
              "Utilib_14_returned_sum     int64\n",
              "Slots_freed_sum            int64\n",
              "Slots_taken_sum            int64\n",
              "dtype: object"
            ]
          },
          "metadata": {
            "tags": []
          },
          "execution_count": 5
        }
      ]
    },
    {
      "cell_type": "markdown",
      "metadata": {
        "id": "W-xpwi_N8Zhr"
      },
      "source": [
        "## Tidying the datasets"
      ]
    },
    {
      "cell_type": "code",
      "metadata": {
        "colab": {
          "base_uri": "https://localhost:8080/"
        },
        "id": "UxLq1q1o30r1",
        "outputId": "cdff2a6a-5064-4636-9692-b1260f9b600c"
      },
      "source": [
        "# Checking our columns\n",
        "df_autolib.columns"
      ],
      "execution_count": null,
      "outputs": [
        {
          "output_type": "execute_result",
          "data": {
            "text/plain": [
              "Index(['Postal code', 'date', 'n_daily_data_points', 'dayOfWeek', 'day_type',\n",
              "       'BlueCars_taken_sum', 'BlueCars_returned_sum', 'Utilib_taken_sum',\n",
              "       'Utilib_returned_sum', 'Utilib_14_taken_sum', 'Utilib_14_returned_sum',\n",
              "       'Slots_freed_sum', 'Slots_taken_sum'],\n",
              "      dtype='object')"
            ]
          },
          "metadata": {
            "tags": []
          },
          "execution_count": 6
        }
      ]
    },
    {
      "cell_type": "code",
      "metadata": {
        "colab": {
          "base_uri": "https://localhost:8080/",
          "height": 197
        },
        "id": "-dhEznkY4IaU",
        "outputId": "c0604cee-8735-4843-d2aa-914b4bdebad5"
      },
      "source": [
        "#Dropping unncecessary columns.\n",
        "# we need data on the blue cars so the columns being dropped are not quite relevant\n",
        "columns = ['Slots_freed_sum','Slots_taken_sum', 'Utilib_14_returned_sum', 'Utilib_14_taken_sum', 'Utilib_returned_sum', 'Utilib_taken_sum' ]\n",
        "df_autolib = df_autolib.drop(columns, axis=1)\n",
        "df_autolib.head()"
      ],
      "execution_count": null,
      "outputs": [
        {
          "output_type": "execute_result",
          "data": {
            "text/html": [
              "<div>\n",
              "<style scoped>\n",
              "    .dataframe tbody tr th:only-of-type {\n",
              "        vertical-align: middle;\n",
              "    }\n",
              "\n",
              "    .dataframe tbody tr th {\n",
              "        vertical-align: top;\n",
              "    }\n",
              "\n",
              "    .dataframe thead th {\n",
              "        text-align: right;\n",
              "    }\n",
              "</style>\n",
              "<table border=\"1\" class=\"dataframe\">\n",
              "  <thead>\n",
              "    <tr style=\"text-align: right;\">\n",
              "      <th></th>\n",
              "      <th>Postal code</th>\n",
              "      <th>date</th>\n",
              "      <th>n_daily_data_points</th>\n",
              "      <th>dayOfWeek</th>\n",
              "      <th>day_type</th>\n",
              "      <th>BlueCars_taken_sum</th>\n",
              "      <th>BlueCars_returned_sum</th>\n",
              "    </tr>\n",
              "  </thead>\n",
              "  <tbody>\n",
              "    <tr>\n",
              "      <th>0</th>\n",
              "      <td>75001</td>\n",
              "      <td>1/1/2018</td>\n",
              "      <td>1440</td>\n",
              "      <td>0</td>\n",
              "      <td>weekday</td>\n",
              "      <td>110</td>\n",
              "      <td>103</td>\n",
              "    </tr>\n",
              "    <tr>\n",
              "      <th>1</th>\n",
              "      <td>75001</td>\n",
              "      <td>1/2/2018</td>\n",
              "      <td>1438</td>\n",
              "      <td>1</td>\n",
              "      <td>weekday</td>\n",
              "      <td>98</td>\n",
              "      <td>94</td>\n",
              "    </tr>\n",
              "    <tr>\n",
              "      <th>2</th>\n",
              "      <td>75001</td>\n",
              "      <td>1/3/2018</td>\n",
              "      <td>1439</td>\n",
              "      <td>2</td>\n",
              "      <td>weekday</td>\n",
              "      <td>138</td>\n",
              "      <td>139</td>\n",
              "    </tr>\n",
              "    <tr>\n",
              "      <th>3</th>\n",
              "      <td>75001</td>\n",
              "      <td>1/4/2018</td>\n",
              "      <td>1320</td>\n",
              "      <td>3</td>\n",
              "      <td>weekday</td>\n",
              "      <td>104</td>\n",
              "      <td>104</td>\n",
              "    </tr>\n",
              "    <tr>\n",
              "      <th>4</th>\n",
              "      <td>75001</td>\n",
              "      <td>1/5/2018</td>\n",
              "      <td>1440</td>\n",
              "      <td>4</td>\n",
              "      <td>weekday</td>\n",
              "      <td>114</td>\n",
              "      <td>117</td>\n",
              "    </tr>\n",
              "  </tbody>\n",
              "</table>\n",
              "</div>"
            ],
            "text/plain": [
              "   Postal code      date  ...  BlueCars_taken_sum  BlueCars_returned_sum\n",
              "0        75001  1/1/2018  ...                 110                    103\n",
              "1        75001  1/2/2018  ...                  98                     94\n",
              "2        75001  1/3/2018  ...                 138                    139\n",
              "3        75001  1/4/2018  ...                 104                    104\n",
              "4        75001  1/5/2018  ...                 114                    117\n",
              "\n",
              "[5 rows x 7 columns]"
            ]
          },
          "metadata": {
            "tags": []
          },
          "execution_count": 7
        }
      ]
    },
    {
      "cell_type": "code",
      "metadata": {
        "id": "NKvfEGbl7PDU"
      },
      "source": [
        "#cleaning data using strip(),lower(), replace()\n",
        "df_autolib.columns = df_autolib.columns.str.strip().str.lower().str.replace(' ', '_').str.replace('(', '').str.replace(')', '')"
      ],
      "execution_count": null,
      "outputs": []
    },
    {
      "cell_type": "code",
      "metadata": {
        "colab": {
          "base_uri": "https://localhost:8080/"
        },
        "id": "eWw54Xni8hDG",
        "outputId": "bad2e6ee-32f9-4284-a4ff-0c889a442a12"
      },
      "source": [
        "# checking for missing values\n",
        "df_autolib.isnull().sum()"
      ],
      "execution_count": null,
      "outputs": [
        {
          "output_type": "execute_result",
          "data": {
            "text/plain": [
              "postal_code              0\n",
              "date                     0\n",
              "n_daily_data_points      0\n",
              "dayofweek                0\n",
              "day_type                 0\n",
              "bluecars_taken_sum       0\n",
              "bluecars_returned_sum    0\n",
              "dtype: int64"
            ]
          },
          "metadata": {
            "tags": []
          },
          "execution_count": 9
        }
      ]
    },
    {
      "cell_type": "code",
      "metadata": {
        "colab": {
          "base_uri": "https://localhost:8080/",
          "height": 297
        },
        "id": "2wwzWFZy8g2J",
        "outputId": "ba87d89b-5010-4e48-d85a-34826e8fd592"
      },
      "source": [
        "# checking for outliers\n",
        "# in the daily data points column\n",
        "sns.boxplot(x=df_autolib['n_daily_data_points'], showmeans=True)\n"
      ],
      "execution_count": null,
      "outputs": [
        {
          "output_type": "execute_result",
          "data": {
            "text/plain": [
              "<matplotlib.axes._subplots.AxesSubplot at 0x7f9b87cd9d10>"
            ]
          },
          "metadata": {
            "tags": []
          },
          "execution_count": 10
        },
        {
          "output_type": "display_data",
          "data": {
            "image/png": "[encoded data removed]",
            "text/plain": [
              "<Figure size 432x288 with 1 Axes>"
            ]
          },
          "metadata": {
            "tags": [],
            "needs_background": "light"
          }
        }
      ]
    },
    {
      "cell_type": "code",
      "metadata": {
        "colab": {
          "base_uri": "https://localhost:8080/",
          "height": 353
        },
        "id": "z47fHLJ_8grf",
        "outputId": "9df56364-d9d3-4e23-8965-6662a0d892cc"
      },
      "source": [
        "# checking for outliers in the BlueCars_taken_sum\n",
        "sns.boxplot(df_autolib['bluecars_taken_sum'], showmeans=True)"
      ],
      "execution_count": null,
      "outputs": [
        {
          "output_type": "stream",
          "text": [
            "/usr/local/lib/python3.7/dist-packages/seaborn/_decorators.py:43: FutureWarning: Pass the following variable as a keyword arg: x. From version 0.12, the only valid positional argument will be `data`, and passing other arguments without an explicit keyword will result in an error or misinterpretation.\n",
            "  FutureWarning\n"
          ],
          "name": "stderr"
        },
        {
          "output_type": "execute_result",
          "data": {
            "text/plain": [
              "<matplotlib.axes._subplots.AxesSubplot at 0x7f9b86ffb8d0>"
            ]
          },
          "metadata": {
            "tags": []
          },
          "execution_count": 11
        },
        {
          "output_type": "display_data",
          "data": {
            "image/png": "[encoded data removed]",
            "text/plain": [
              "<Figure size 432x288 with 1 Axes>"
            ]
          },
          "metadata": {
            "tags": [],
            "needs_background": "light"
          }
        }
      ]
    },
    {
      "cell_type": "code",
      "metadata": {
        "colab": {
          "base_uri": "https://localhost:8080/",
          "height": 353
        },
        "id": "pn9uUoT0-8e4",
        "outputId": "0ff57d21-b591-46f0-b680-4ed8915e6556"
      },
      "source": [
        "#checking for outliers in the bluecars_returned_sum\n",
        "sns.boxplot(df_autolib['bluecars_returned_sum'], showmeans=True)"
      ],
      "execution_count": null,
      "outputs": [
        {
          "output_type": "stream",
          "text": [
            "/usr/local/lib/python3.7/dist-packages/seaborn/_decorators.py:43: FutureWarning: Pass the following variable as a keyword arg: x. From version 0.12, the only valid positional argument will be `data`, and passing other arguments without an explicit keyword will result in an error or misinterpretation.\n",
            "  FutureWarning\n"
          ],
          "name": "stderr"
        },
        {
          "output_type": "execute_result",
          "data": {
            "text/plain": [
              "<matplotlib.axes._subplots.AxesSubplot at 0x7f9b86b39f10>"
            ]
          },
          "metadata": {
            "tags": []
          },
          "execution_count": 12
        },
        {
          "output_type": "display_data",
          "data": {
            "image/png": "[encoded data removed]",
            "text/plain": [
              "<Figure size 432x288 with 1 Axes>"
            ]
          },
          "metadata": {
            "tags": [],
            "needs_background": "light"
          }
        }
      ]
    },
    {
      "cell_type": "code",
      "metadata": {
        "id": "G34mOKxs_MSD"
      },
      "source": [
        "# removing the outliers/anomalies using the interquatile ranges formula to have \n",
        "# a more sensible data set.\n",
        "\n",
        "Q1 = df_autolib.quantile(0.25)\n",
        "Q3 = df_autolib.quantile(0.75)\n",
        "IQR = Q3 - Q1"
      ],
      "execution_count": null,
      "outputs": []
    },
    {
      "cell_type": "code",
      "metadata": {
        "id": "UtsFrTXfAdWz"
      },
      "source": [
        ""
      ],
      "execution_count": null,
      "outputs": []
    },
    {
      "cell_type": "code",
      "metadata": {
        "colab": {
          "base_uri": "https://localhost:8080/"
        },
        "id": "pYbH66yHAdLC",
        "outputId": "0af4fbcc-5f9e-41a5-c6ac-ae3738d22126"
      },
      "source": [
        "# Checking for duplicates\n",
        "df_autolib.duplicated().sum()\n",
        "\n",
        "# there are no duplicates"
      ],
      "execution_count": null,
      "outputs": [
        {
          "output_type": "execute_result",
          "data": {
            "text/plain": [
              "0"
            ]
          },
          "metadata": {
            "tags": []
          },
          "execution_count": 14
        }
      ]
    },
    {
      "cell_type": "code",
      "metadata": {
        "id": "F0-dqqCdd10x"
      },
      "source": [
        "df_autolib.to_csv(\"autolib_dataset.csv\")"
      ],
      "execution_count": null,
      "outputs": []
    },
    {
      "cell_type": "markdown",
      "metadata": {
        "id": "zKxXS5SeCLOJ"
      },
      "source": [
        "## Exploratory analysis"
      ]
    },
    {
      "cell_type": "markdown",
      "metadata": {
        "id": "Xw64KZZqCQxe"
      },
      "source": [
        "### Univariate Analysis "
      ]
    },
    {
      "cell_type": "code",
      "metadata": {
        "colab": {
          "base_uri": "https://localhost:8080/",
          "height": 197
        },
        "id": "zvcvU_cuZ-ZX",
        "outputId": "4fabe424-9faf-4589-c061-7b3ff2488273"
      },
      "source": [
        "# preview our dataset\n",
        "df_autolib.head()"
      ],
      "execution_count": null,
      "outputs": [
        {
          "output_type": "execute_result",
          "data": {
            "text/html": [
              "<div>\n",
              "<style scoped>\n",
              "    .dataframe tbody tr th:only-of-type {\n",
              "        vertical-align: middle;\n",
              "    }\n",
              "\n",
              "    .dataframe tbody tr th {\n",
              "        vertical-align: top;\n",
              "    }\n",
              "\n",
              "    .dataframe thead th {\n",
              "        text-align: right;\n",
              "    }\n",
              "</style>\n",
              "<table border=\"1\" class=\"dataframe\">\n",
              "  <thead>\n",
              "    <tr style=\"text-align: right;\">\n",
              "      <th></th>\n",
              "      <th>postal_code</th>\n",
              "      <th>date</th>\n",
              "      <th>n_daily_data_points</th>\n",
              "      <th>dayofweek</th>\n",
              "      <th>day_type</th>\n",
              "      <th>bluecars_taken_sum</th>\n",
              "      <th>bluecars_returned_sum</th>\n",
              "    </tr>\n",
              "  </thead>\n",
              "  <tbody>\n",
              "    <tr>\n",
              "      <th>0</th>\n",
              "      <td>75001</td>\n",
              "      <td>1/1/2018</td>\n",
              "      <td>1440</td>\n",
              "      <td>0</td>\n",
              "      <td>weekday</td>\n",
              "      <td>110</td>\n",
              "      <td>103</td>\n",
              "    </tr>\n",
              "    <tr>\n",
              "      <th>1</th>\n",
              "      <td>75001</td>\n",
              "      <td>1/2/2018</td>\n",
              "      <td>1438</td>\n",
              "      <td>1</td>\n",
              "      <td>weekday</td>\n",
              "      <td>98</td>\n",
              "      <td>94</td>\n",
              "    </tr>\n",
              "    <tr>\n",
              "      <th>2</th>\n",
              "      <td>75001</td>\n",
              "      <td>1/3/2018</td>\n",
              "      <td>1439</td>\n",
              "      <td>2</td>\n",
              "      <td>weekday</td>\n",
              "      <td>138</td>\n",
              "      <td>139</td>\n",
              "    </tr>\n",
              "    <tr>\n",
              "      <th>3</th>\n",
              "      <td>75001</td>\n",
              "      <td>1/4/2018</td>\n",
              "      <td>1320</td>\n",
              "      <td>3</td>\n",
              "      <td>weekday</td>\n",
              "      <td>104</td>\n",
              "      <td>104</td>\n",
              "    </tr>\n",
              "    <tr>\n",
              "      <th>4</th>\n",
              "      <td>75001</td>\n",
              "      <td>1/5/2018</td>\n",
              "      <td>1440</td>\n",
              "      <td>4</td>\n",
              "      <td>weekday</td>\n",
              "      <td>114</td>\n",
              "      <td>117</td>\n",
              "    </tr>\n",
              "  </tbody>\n",
              "</table>\n",
              "</div>"
            ],
            "text/plain": [
              "   postal_code      date  ...  bluecars_taken_sum  bluecars_returned_sum\n",
              "0        75001  1/1/2018  ...                 110                    103\n",
              "1        75001  1/2/2018  ...                  98                     94\n",
              "2        75001  1/3/2018  ...                 138                    139\n",
              "3        75001  1/4/2018  ...                 104                    104\n",
              "4        75001  1/5/2018  ...                 114                    117\n",
              "\n",
              "[5 rows x 7 columns]"
            ]
          },
          "metadata": {
            "tags": []
          },
          "execution_count": 69
        }
      ]
    },
    {
      "cell_type": "code",
      "metadata": {
        "colab": {
          "base_uri": "https://localhost:8080/"
        },
        "id": "5uVHUD_KaQL_",
        "outputId": "04ced418-bb1a-487e-b9b6-212ad5cbe070"
      },
      "source": [
        "df_autolib.shape"
      ],
      "execution_count": null,
      "outputs": [
        {
          "output_type": "execute_result",
          "data": {
            "text/plain": [
              "(16085, 7)"
            ]
          },
          "metadata": {
            "tags": []
          },
          "execution_count": 70
        }
      ]
    },
    {
      "cell_type": "code",
      "metadata": {
        "colab": {
          "base_uri": "https://localhost:8080/",
          "height": 377
        },
        "id": "33dbgEGMcF2i",
        "outputId": "ac279171-d9df-4cfb-9362-ec9a6fe602e0"
      },
      "source": [
        "# Ploting the univariate summaries and recording our observations\n",
        "#\n",
        "df_autolib.describe(include='all')"
      ],
      "execution_count": null,
      "outputs": [
        {
          "output_type": "execute_result",
          "data": {
            "text/html": [
              "<div>\n",
              "<style scoped>\n",
              "    .dataframe tbody tr th:only-of-type {\n",
              "        vertical-align: middle;\n",
              "    }\n",
              "\n",
              "    .dataframe tbody tr th {\n",
              "        vertical-align: top;\n",
              "    }\n",
              "\n",
              "    .dataframe thead th {\n",
              "        text-align: right;\n",
              "    }\n",
              "</style>\n",
              "<table border=\"1\" class=\"dataframe\">\n",
              "  <thead>\n",
              "    <tr style=\"text-align: right;\">\n",
              "      <th></th>\n",
              "      <th>postal_code</th>\n",
              "      <th>date</th>\n",
              "      <th>n_daily_data_points</th>\n",
              "      <th>dayofweek</th>\n",
              "      <th>day_type</th>\n",
              "      <th>bluecars_taken_sum</th>\n",
              "      <th>bluecars_returned_sum</th>\n",
              "    </tr>\n",
              "  </thead>\n",
              "  <tbody>\n",
              "    <tr>\n",
              "      <th>count</th>\n",
              "      <td>16085.000000</td>\n",
              "      <td>16085</td>\n",
              "      <td>16085.000000</td>\n",
              "      <td>16085.000000</td>\n",
              "      <td>16085</td>\n",
              "      <td>16085.000000</td>\n",
              "      <td>16085.000000</td>\n",
              "    </tr>\n",
              "    <tr>\n",
              "      <th>unique</th>\n",
              "      <td>NaN</td>\n",
              "      <td>156</td>\n",
              "      <td>NaN</td>\n",
              "      <td>NaN</td>\n",
              "      <td>2</td>\n",
              "      <td>NaN</td>\n",
              "      <td>NaN</td>\n",
              "    </tr>\n",
              "    <tr>\n",
              "      <th>top</th>\n",
              "      <td>NaN</td>\n",
              "      <td>5/25/2018</td>\n",
              "      <td>NaN</td>\n",
              "      <td>NaN</td>\n",
              "      <td>weekday</td>\n",
              "      <td>NaN</td>\n",
              "      <td>NaN</td>\n",
              "    </tr>\n",
              "    <tr>\n",
              "      <th>freq</th>\n",
              "      <td>NaN</td>\n",
              "      <td>104</td>\n",
              "      <td>NaN</td>\n",
              "      <td>NaN</td>\n",
              "      <td>11544</td>\n",
              "      <td>NaN</td>\n",
              "      <td>NaN</td>\n",
              "    </tr>\n",
              "    <tr>\n",
              "      <th>mean</th>\n",
              "      <td>88791.293876</td>\n",
              "      <td>NaN</td>\n",
              "      <td>1431.330619</td>\n",
              "      <td>2.969599</td>\n",
              "      <td>NaN</td>\n",
              "      <td>125.926951</td>\n",
              "      <td>125.912714</td>\n",
              "    </tr>\n",
              "    <tr>\n",
              "      <th>std</th>\n",
              "      <td>7647.342000</td>\n",
              "      <td>NaN</td>\n",
              "      <td>33.212050</td>\n",
              "      <td>2.008378</td>\n",
              "      <td>NaN</td>\n",
              "      <td>185.426579</td>\n",
              "      <td>185.501535</td>\n",
              "    </tr>\n",
              "    <tr>\n",
              "      <th>min</th>\n",
              "      <td>75001.000000</td>\n",
              "      <td>NaN</td>\n",
              "      <td>1174.000000</td>\n",
              "      <td>0.000000</td>\n",
              "      <td>NaN</td>\n",
              "      <td>0.000000</td>\n",
              "      <td>0.000000</td>\n",
              "    </tr>\n",
              "    <tr>\n",
              "      <th>25%</th>\n",
              "      <td>91330.000000</td>\n",
              "      <td>NaN</td>\n",
              "      <td>1439.000000</td>\n",
              "      <td>1.000000</td>\n",
              "      <td>NaN</td>\n",
              "      <td>20.000000</td>\n",
              "      <td>20.000000</td>\n",
              "    </tr>\n",
              "    <tr>\n",
              "      <th>50%</th>\n",
              "      <td>92340.000000</td>\n",
              "      <td>NaN</td>\n",
              "      <td>1440.000000</td>\n",
              "      <td>3.000000</td>\n",
              "      <td>NaN</td>\n",
              "      <td>46.000000</td>\n",
              "      <td>46.000000</td>\n",
              "    </tr>\n",
              "    <tr>\n",
              "      <th>75%</th>\n",
              "      <td>93400.000000</td>\n",
              "      <td>NaN</td>\n",
              "      <td>1440.000000</td>\n",
              "      <td>5.000000</td>\n",
              "      <td>NaN</td>\n",
              "      <td>135.000000</td>\n",
              "      <td>135.000000</td>\n",
              "    </tr>\n",
              "    <tr>\n",
              "      <th>max</th>\n",
              "      <td>95880.000000</td>\n",
              "      <td>NaN</td>\n",
              "      <td>1440.000000</td>\n",
              "      <td>6.000000</td>\n",
              "      <td>NaN</td>\n",
              "      <td>1352.000000</td>\n",
              "      <td>1332.000000</td>\n",
              "    </tr>\n",
              "  </tbody>\n",
              "</table>\n",
              "</div>"
            ],
            "text/plain": [
              "         postal_code       date  ...  bluecars_taken_sum  bluecars_returned_sum\n",
              "count   16085.000000      16085  ...        16085.000000           16085.000000\n",
              "unique           NaN        156  ...                 NaN                    NaN\n",
              "top              NaN  5/25/2018  ...                 NaN                    NaN\n",
              "freq             NaN        104  ...                 NaN                    NaN\n",
              "mean    88791.293876        NaN  ...          125.926951             125.912714\n",
              "std      7647.342000        NaN  ...          185.426579             185.501535\n",
              "min     75001.000000        NaN  ...            0.000000               0.000000\n",
              "25%     91330.000000        NaN  ...           20.000000              20.000000\n",
              "50%     92340.000000        NaN  ...           46.000000              46.000000\n",
              "75%     93400.000000        NaN  ...          135.000000             135.000000\n",
              "max     95880.000000        NaN  ...         1352.000000            1332.000000\n",
              "\n",
              "[11 rows x 7 columns]"
            ]
          },
          "metadata": {
            "tags": []
          },
          "execution_count": 72
        }
      ]
    },
    {
      "cell_type": "code",
      "metadata": {
        "colab": {
          "base_uri": "https://localhost:8080/"
        },
        "id": "FtY7iJ_jAc8X",
        "outputId": "eb020d82-7c2e-4903-bee2-29c6310c35c7"
      },
      "source": [
        "# Creating our frequency table using value counts\n",
        "# ---\n",
        "df_autolib.bluecars_taken_sum.value_counts()"
      ],
      "execution_count": null,
      "outputs": [
        {
          "output_type": "execute_result",
          "data": {
            "text/plain": [
              "12      261\n",
              "14      253\n",
              "9       247\n",
              "11      246\n",
              "13      238\n",
              "       ... \n",
              "833       1\n",
              "825       1\n",
              "809       1\n",
              "801       1\n",
              "1335      1\n",
              "Name: bluecars_taken_sum, Length: 932, dtype: int64"
            ]
          },
          "metadata": {
            "tags": []
          },
          "execution_count": 71
        }
      ]
    },
    {
      "cell_type": "code",
      "metadata": {
        "colab": {
          "base_uri": "https://localhost:8080/"
        },
        "id": "M6YPFem5lmN1",
        "outputId": "912c528e-914b-4f09-98c1-f074a16b2cc7"
      },
      "source": [
        "df_autolib.dayofweek.value_counts()"
      ],
      "execution_count": null,
      "outputs": [
        {
          "output_type": "execute_result",
          "data": {
            "text/plain": [
              "0    2374\n",
              "1    2363\n",
              "6    2274\n",
              "4    2271\n",
              "3    2268\n",
              "2    2268\n",
              "5    2267\n",
              "Name: dayofweek, dtype: int64"
            ]
          },
          "metadata": {
            "tags": []
          },
          "execution_count": 84
        }
      ]
    },
    {
      "cell_type": "code",
      "metadata": {
        "colab": {
          "base_uri": "https://localhost:8080/"
        },
        "id": "jVNi8mGPC_jO",
        "outputId": "de343e5b-446f-46e6-d58c-978ed18b837b"
      },
      "source": [
        "# Creating our frequency table using value counts\n",
        "#\n",
        "df_autolib.bluecars_returned_sum.value_counts()"
      ],
      "execution_count": null,
      "outputs": [
        {
          "output_type": "execute_result",
          "data": {
            "text/plain": [
              "13      260\n",
              "12      254\n",
              "10      249\n",
              "9       243\n",
              "11      242\n",
              "       ... \n",
              "556       1\n",
              "588       1\n",
              "604       1\n",
              "628       1\n",
              "1287      1\n",
              "Name: bluecars_returned_sum, Length: 929, dtype: int64"
            ]
          },
          "metadata": {
            "tags": []
          },
          "execution_count": 73
        }
      ]
    },
    {
      "cell_type": "code",
      "metadata": {
        "colab": {
          "base_uri": "https://localhost:8080/",
          "height": 294
        },
        "id": "SH7HweooC_Yb",
        "outputId": "45001ded-a6c8-47ec-bb0f-099776ad7518"
      },
      "source": [
        "# Plotting a histogram of blue cars taken which day of the week\n",
        "bluecars_taken = df_autolib['bluecars_taken_sum']\n",
        "plt.hist(bluecars_taken, histtype='bar', rwidth=0.9)\n",
        "plt.title('A histograms showing number of blue cars taken')\n",
        "plt.xlabel('blue cars')\n",
        "plt.ylabel('frequency')\n",
        "plt.show()\n"
      ],
      "execution_count": null,
      "outputs": [
        {
          "output_type": "display_data",
          "data": {
            "image/png": "[encoded data removed]",
            "text/plain": [
              "<Figure size 432x288 with 1 Axes>"
            ]
          },
          "metadata": {
            "tags": [],
            "needs_background": "light"
          }
        }
      ]
    },
    {
      "cell_type": "code",
      "metadata": {
        "colab": {
          "base_uri": "https://localhost:8080/",
          "height": 294
        },
        "id": "MY-j6Qy7C_QH",
        "outputId": "cb636831-027b-4c7d-c28a-32267ddfc0d3"
      },
      "source": [
        "# Plotting a histogram of blue cars taken which day of the week\n",
        "bluecars_taken = df_autolib['bluecars_returned_sum']\n",
        "plt.hist(bluecars_taken, histtype='bar', rwidth=0.9)\n",
        "plt.title('A histograms showing number of blue cars returned')\n",
        "plt.xlabel('blue cars')\n",
        "plt.ylabel('frequency')\n",
        "plt.show()"
      ],
      "execution_count": null,
      "outputs": [
        {
          "output_type": "display_data",
          "data": {
            "image/png": "[encoded data removed]",
            "text/plain": [
              "<Figure size 432x288 with 1 Axes>"
            ]
          },
          "metadata": {
            "tags": [],
            "needs_background": "light"
          }
        }
      ]
    },
    {
      "cell_type": "code",
      "metadata": {
        "colab": {
          "base_uri": "https://localhost:8080/",
          "height": 264
        },
        "id": "Rzfl2TpqC_H7",
        "outputId": "393e3d39-378f-4324-ae22-75359ac6219a"
      },
      "source": [
        "#Create a pie chart to indicate the day_type column\n",
        "column= df_autolib.day_type.value_counts()\n",
        "\n",
        "\n",
        "# accessing the data to plot\n",
        "\n",
        "# labels\n",
        "label= ['weekend','weekday']\n",
        "# values\n",
        "value = column.values\n",
        "\n",
        "# plotting the pie chart\n",
        "plt.pie(value, labels = label, autopct = '%1.1f%%', shadow = True, explode = (0.1,0), startangle = 90)\n",
        "plt.axis('equal')\n",
        "plt.title('A Pie Chart of day types')\n",
        "plt.show()"
      ],
      "execution_count": null,
      "outputs": [
        {
          "output_type": "display_data",
          "data": {
            "image/png": "[encoded data removed]",
            "text/plain": [
              "<Figure size 432x288 with 1 Axes>"
            ]
          },
          "metadata": {
            "tags": []
          }
        }
      ]
    },
    {
      "cell_type": "code",
      "metadata": {
        "colab": {
          "base_uri": "https://localhost:8080/",
          "height": 268
        },
        "id": "GxNTaFfJC--7",
        "outputId": "6e76fe26-bd6b-4318-c570-bbbbd49660e3"
      },
      "source": [
        "#Create a pie chart to indicate the day_type column\n",
        "column= df_autolib.dayofweek.value_counts()\n",
        "\n",
        "\n",
        "# accessing the data to plot\n",
        "\n",
        "# labels\n",
        "label= ['0','1','2','3','4','5','6']\n",
        "# values\n",
        "value = column.values\n",
        "\n",
        "# plotting the pie chart\n",
        "plt.pie(value, labels = label, autopct = '%1.1f%%', shadow = True, startangle = 90)\n",
        "plt.axis('equal')\n",
        "plt.title('A Pie Chart of days of the week')\n",
        "plt.show()"
      ],
      "execution_count": null,
      "outputs": [
        {
          "output_type": "display_data",
          "data": {
            "image/png": "[encoded data removed]",
            "text/plain": [
              "<Figure size 432x288 with 1 Axes>"
            ]
          },
          "metadata": {
            "tags": []
          }
        }
      ]
    },
    {
      "cell_type": "markdown",
      "metadata": {
        "id": "YywnHayImUBF"
      },
      "source": [
        "#### Measures of central tendancies"
      ]
    },
    {
      "cell_type": "code",
      "metadata": {
        "colab": {
          "base_uri": "https://localhost:8080/"
        },
        "id": "UKbAftWeC-05",
        "outputId": "768c28af-94e5-467c-d079-887bbc146364"
      },
      "source": [
        "# Mean, and mode of blue cars taken\n",
        "print(df_autolib['bluecars_taken_sum'].mean())\n",
        "print(df_autolib['bluecars_taken_sum'].mode())\n",
        "print(df_autolib['bluecars_taken_sum'].max())\n",
        "print(df_autolib['bluecars_taken_sum'].min())"
      ],
      "execution_count": null,
      "outputs": [
        {
          "output_type": "stream",
          "text": [
            "125.92695057506994\n",
            "0    12\n",
            "dtype: int64\n",
            "1352\n",
            "0\n"
          ],
          "name": "stdout"
        }
      ]
    },
    {
      "cell_type": "code",
      "metadata": {
        "colab": {
          "base_uri": "https://localhost:8080/"
        },
        "id": "zVsqZe-voN_S",
        "outputId": "695c7cca-3195-4172-92e1-6ee0e4849633"
      },
      "source": [
        "# Mean and mode of bluecars returned\n",
        "print(df_autolib['bluecars_returned_sum'].mean())\n",
        "print(df_autolib['bluecars_returned_sum'].mode())\n",
        "print(df_autolib['bluecars_returned_sum'].max())\n",
        "print(df_autolib['bluecars_returned_sum'].min())"
      ],
      "execution_count": null,
      "outputs": [
        {
          "output_type": "stream",
          "text": [
            "125.912713708424\n",
            "0    13\n",
            "dtype: int64\n",
            "1332\n",
            "0\n"
          ],
          "name": "stdout"
        }
      ]
    },
    {
      "cell_type": "code",
      "metadata": {
        "colab": {
          "base_uri": "https://localhost:8080/"
        },
        "id": "U9jj93bgoN2b",
        "outputId": "3ddeda4f-dc58-4cdd-b95e-c021c6a0e88c"
      },
      "source": [
        "# mode of the day type\n",
        "print(df_autolib['day_type'].mode())"
      ],
      "execution_count": null,
      "outputs": [
        {
          "output_type": "stream",
          "text": [
            "0    weekday\n",
            "dtype: object\n"
          ],
          "name": "stdout"
        }
      ]
    },
    {
      "cell_type": "code",
      "metadata": {
        "colab": {
          "base_uri": "https://localhost:8080/"
        },
        "id": "1T3PWIHzoNxm",
        "outputId": "2c076684-2893-46bb-dc9a-2326dcc495d5"
      },
      "source": [
        "# mode of day of week\n",
        "print(df_autolib['dayofweek'].mode())\n",
        "\n",
        "0 was the most common day of the weeek"
      ],
      "execution_count": null,
      "outputs": [
        {
          "output_type": "stream",
          "text": [
            "0    0\n",
            "dtype: int64\n"
          ],
          "name": "stdout"
        }
      ]
    },
    {
      "cell_type": "code",
      "metadata": {
        "colab": {
          "base_uri": "https://localhost:8080/"
        },
        "id": "ewbGup-npjB-",
        "outputId": "796a89f8-dd7d-42be-fc43-5cc00ade59a1"
      },
      "source": [
        "#Calculate quantiles\n",
        "quantile_taken = df_autolib['bluecars_taken_sum'].quantile([0.25,0.5,0.75])\n",
        "print(quantile_taken)"
      ],
      "execution_count": null,
      "outputs": [
        {
          "output_type": "stream",
          "text": [
            "0.25     20.0\n",
            "0.50     46.0\n",
            "0.75    135.0\n",
            "Name: bluecars_taken_sum, dtype: float64\n"
          ],
          "name": "stdout"
        }
      ]
    },
    {
      "cell_type": "code",
      "metadata": {
        "colab": {
          "base_uri": "https://localhost:8080/"
        },
        "id": "Bj42VIC2piwm",
        "outputId": "ec2804c3-590a-4928-91d7-13650330e8b3"
      },
      "source": [
        "#Calculate quantiles\n",
        "quantile_returned = df_autolib['bluecars_returned_sum'].quantile([0.25,0.5,0.75])\n",
        "print(quantile_returned)"
      ],
      "execution_count": null,
      "outputs": [
        {
          "output_type": "stream",
          "text": [
            "0.25     20.0\n",
            "0.50     46.0\n",
            "0.75    135.0\n",
            "Name: bluecars_returned_sum, dtype: float64\n"
          ],
          "name": "stdout"
        }
      ]
    },
    {
      "cell_type": "code",
      "metadata": {
        "colab": {
          "base_uri": "https://localhost:8080/"
        },
        "id": "IJtQTGXdqIsn",
        "outputId": "f2d1609f-0449-47f1-dacc-c44fc3219b60"
      },
      "source": [
        "\n",
        "#Calculating measures of dispersion\n",
        "\n",
        "\n",
        "st_dev = df_autolib.bluecars_taken_sum.std()\n",
        "print('Standard Deviation:' ,st_dev)\n",
        "var = df_autolib.bluecars_taken_sum.var()\n",
        "print('Variance:', var)\n",
        "skew = df_autolib.bluecars_taken_sum.skew()\n",
        "print('Skewness:', skew)\n",
        "kurt = df_autolib.bluecars_taken_sum.kurtosis()\n",
        "print('Kurtosis:',kurt)"
      ],
      "execution_count": null,
      "outputs": [
        {
          "output_type": "stream",
          "text": [
            "Standard Deviation: 185.42657876727893\n",
            "Variance: 34383.01611333789\n",
            "Skewness: 2.4063548974959086\n",
            "Kurtosis: 6.172692305510042\n"
          ],
          "name": "stdout"
        }
      ]
    },
    {
      "cell_type": "code",
      "metadata": {
        "colab": {
          "base_uri": "https://localhost:8080/"
        },
        "id": "HDz2Jn9cqm0_",
        "outputId": "536ab3f2-c03a-41f5-c8c7-7c80ac6bc9ad"
      },
      "source": [
        "\n",
        "#Calculating measures of dispersion\n",
        "\n",
        "\n",
        "st_dev = df_autolib.bluecars_returned_sum.std()\n",
        "print('Standard Deviation:' ,st_dev)\n",
        "var = df_autolib.bluecars_returned_sum.var()\n",
        "print('Variance:', var)\n",
        "skew = df_autolib.bluecars_returned_sum.skew()\n",
        "print('Skewness:', skew)\n",
        "kurt = df_autolib.bluecars_returned_sum.kurtosis()\n",
        "print('Kurtosis:',kurt)"
      ],
      "execution_count": null,
      "outputs": [
        {
          "output_type": "stream",
          "text": [
            "Standard Deviation: 185.50153480148427\n",
            "Variance: 34410.819413706275\n",
            "Skewness: 2.412084978838923\n",
            "Kurtosis: 6.1862880957582345\n"
          ],
          "name": "stdout"
        }
      ]
    },
    {
      "cell_type": "code",
      "metadata": {
        "colab": {
          "base_uri": "https://localhost:8080/",
          "height": 197
        },
        "id": "7Qal0RrorFJ8",
        "outputId": "3a38a45d-cae2-41b1-cb38-ed95b084b7cb"
      },
      "source": [
        "# correlation\n",
        "df_autolib.corr()"
      ],
      "execution_count": null,
      "outputs": [
        {
          "output_type": "execute_result",
          "data": {
            "text/html": [
              "<div>\n",
              "<style scoped>\n",
              "    .dataframe tbody tr th:only-of-type {\n",
              "        vertical-align: middle;\n",
              "    }\n",
              "\n",
              "    .dataframe tbody tr th {\n",
              "        vertical-align: top;\n",
              "    }\n",
              "\n",
              "    .dataframe thead th {\n",
              "        text-align: right;\n",
              "    }\n",
              "</style>\n",
              "<table border=\"1\" class=\"dataframe\">\n",
              "  <thead>\n",
              "    <tr style=\"text-align: right;\">\n",
              "      <th></th>\n",
              "      <th>postal_code</th>\n",
              "      <th>n_daily_data_points</th>\n",
              "      <th>dayofweek</th>\n",
              "      <th>bluecars_taken_sum</th>\n",
              "      <th>bluecars_returned_sum</th>\n",
              "    </tr>\n",
              "  </thead>\n",
              "  <tbody>\n",
              "    <tr>\n",
              "      <th>postal_code</th>\n",
              "      <td>1.000000</td>\n",
              "      <td>0.000432</td>\n",
              "      <td>0.000343</td>\n",
              "      <td>-0.698020</td>\n",
              "      <td>-0.697519</td>\n",
              "    </tr>\n",
              "    <tr>\n",
              "      <th>n_daily_data_points</th>\n",
              "      <td>0.000432</td>\n",
              "      <td>1.000000</td>\n",
              "      <td>0.002039</td>\n",
              "      <td>0.029411</td>\n",
              "      <td>0.030063</td>\n",
              "    </tr>\n",
              "    <tr>\n",
              "      <th>dayofweek</th>\n",
              "      <td>0.000343</td>\n",
              "      <td>0.002039</td>\n",
              "      <td>1.000000</td>\n",
              "      <td>0.079649</td>\n",
              "      <td>0.081954</td>\n",
              "    </tr>\n",
              "    <tr>\n",
              "      <th>bluecars_taken_sum</th>\n",
              "      <td>-0.698020</td>\n",
              "      <td>0.029411</td>\n",
              "      <td>0.079649</td>\n",
              "      <td>1.000000</td>\n",
              "      <td>0.998660</td>\n",
              "    </tr>\n",
              "    <tr>\n",
              "      <th>bluecars_returned_sum</th>\n",
              "      <td>-0.697519</td>\n",
              "      <td>0.030063</td>\n",
              "      <td>0.081954</td>\n",
              "      <td>0.998660</td>\n",
              "      <td>1.000000</td>\n",
              "    </tr>\n",
              "  </tbody>\n",
              "</table>\n",
              "</div>"
            ],
            "text/plain": [
              "                       postal_code  ...  bluecars_returned_sum\n",
              "postal_code               1.000000  ...              -0.697519\n",
              "n_daily_data_points       0.000432  ...               0.030063\n",
              "dayofweek                 0.000343  ...               0.081954\n",
              "bluecars_taken_sum       -0.698020  ...               0.998660\n",
              "bluecars_returned_sum    -0.697519  ...               1.000000\n",
              "\n",
              "[5 rows x 5 columns]"
            ]
          },
          "metadata": {
            "tags": []
          },
          "execution_count": 101
        }
      ]
    },
    {
      "cell_type": "markdown",
      "metadata": {
        "id": "v1gwmd8OC0y6"
      },
      "source": [
        "### Bivariate Analysis"
      ]
    },
    {
      "cell_type": "code",
      "metadata": {
        "colab": {
          "base_uri": "https://localhost:8080/",
          "height": 903
        },
        "id": "OKEIQnlQC6cg",
        "outputId": "68dd9c25-2e56-40f5-d9b1-ae58d567eb7a"
      },
      "source": [
        "# Ploting the bivariate summaries and recording our observations\n",
        "sns.pairplot(df_autolib)\n",
        "plt.show()\n",
        "\n",
        "# pair plots of differnt columns in the dataset"
      ],
      "execution_count": null,
      "outputs": [
        {
          "output_type": "display_data",
          "data": {
            "image/png": "[encoded data removed]",
            "text/plain": [
              "<Figure size 900x900 with 30 Axes>"
            ]
          },
          "metadata": {
            "tags": [],
            "needs_background": "light"
          }
        }
      ]
    },
    {
      "cell_type": "code",
      "metadata": {
        "colab": {
          "base_uri": "https://localhost:8080/",
          "height": 375
        },
        "id": "T-1vWmp06l2H",
        "outputId": "7b3eae73-2312-4aca-a2ec-e65145c9a8a3"
      },
      "source": [
        "sns.heatmap(df_autolib.corr(),annot=True)\n",
        "plt.show()\n",
        "\n",
        "# A heat map showing the different correlations"
      ],
      "execution_count": null,
      "outputs": [
        {
          "output_type": "display_data",
          "data": {
            "image/png": "[encoded data removed]",
            "text/plain": [
              "<Figure size 432x288 with 2 Axes>"
            ]
          },
          "metadata": {
            "tags": [],
            "needs_background": "light"
          }
        }
      ]
    },
    {
      "cell_type": "code",
      "metadata": {
        "colab": {
          "base_uri": "https://localhost:8080/",
          "height": 197
        },
        "id": "GSVx48Ij8qNL",
        "outputId": "6fa050a7-925e-46c4-81ac-0fbf9fefa5ee"
      },
      "source": [
        "# Previewing our dataset\n",
        "df_autolib.head()"
      ],
      "execution_count": null,
      "outputs": [
        {
          "output_type": "execute_result",
          "data": {
            "text/html": [
              "<div>\n",
              "<style scoped>\n",
              "    .dataframe tbody tr th:only-of-type {\n",
              "        vertical-align: middle;\n",
              "    }\n",
              "\n",
              "    .dataframe tbody tr th {\n",
              "        vertical-align: top;\n",
              "    }\n",
              "\n",
              "    .dataframe thead th {\n",
              "        text-align: right;\n",
              "    }\n",
              "</style>\n",
              "<table border=\"1\" class=\"dataframe\">\n",
              "  <thead>\n",
              "    <tr style=\"text-align: right;\">\n",
              "      <th></th>\n",
              "      <th>postal_code</th>\n",
              "      <th>date</th>\n",
              "      <th>n_daily_data_points</th>\n",
              "      <th>dayofweek</th>\n",
              "      <th>day_type</th>\n",
              "      <th>bluecars_taken_sum</th>\n",
              "      <th>bluecars_returned_sum</th>\n",
              "    </tr>\n",
              "  </thead>\n",
              "  <tbody>\n",
              "    <tr>\n",
              "      <th>0</th>\n",
              "      <td>75001</td>\n",
              "      <td>1/1/2018</td>\n",
              "      <td>1440</td>\n",
              "      <td>0</td>\n",
              "      <td>weekday</td>\n",
              "      <td>110</td>\n",
              "      <td>103</td>\n",
              "    </tr>\n",
              "    <tr>\n",
              "      <th>1</th>\n",
              "      <td>75001</td>\n",
              "      <td>1/2/2018</td>\n",
              "      <td>1438</td>\n",
              "      <td>1</td>\n",
              "      <td>weekday</td>\n",
              "      <td>98</td>\n",
              "      <td>94</td>\n",
              "    </tr>\n",
              "    <tr>\n",
              "      <th>2</th>\n",
              "      <td>75001</td>\n",
              "      <td>1/3/2018</td>\n",
              "      <td>1439</td>\n",
              "      <td>2</td>\n",
              "      <td>weekday</td>\n",
              "      <td>138</td>\n",
              "      <td>139</td>\n",
              "    </tr>\n",
              "    <tr>\n",
              "      <th>3</th>\n",
              "      <td>75001</td>\n",
              "      <td>1/4/2018</td>\n",
              "      <td>1320</td>\n",
              "      <td>3</td>\n",
              "      <td>weekday</td>\n",
              "      <td>104</td>\n",
              "      <td>104</td>\n",
              "    </tr>\n",
              "    <tr>\n",
              "      <th>4</th>\n",
              "      <td>75001</td>\n",
              "      <td>1/5/2018</td>\n",
              "      <td>1440</td>\n",
              "      <td>4</td>\n",
              "      <td>weekday</td>\n",
              "      <td>114</td>\n",
              "      <td>117</td>\n",
              "    </tr>\n",
              "  </tbody>\n",
              "</table>\n",
              "</div>"
            ],
            "text/plain": [
              "   postal_code      date  ...  bluecars_taken_sum  bluecars_returned_sum\n",
              "0        75001  1/1/2018  ...                 110                    103\n",
              "1        75001  1/2/2018  ...                  98                     94\n",
              "2        75001  1/3/2018  ...                 138                    139\n",
              "3        75001  1/4/2018  ...                 104                    104\n",
              "4        75001  1/5/2018  ...                 114                    117\n",
              "\n",
              "[5 rows x 7 columns]"
            ]
          },
          "metadata": {
            "tags": []
          },
          "execution_count": 19
        }
      ]
    },
    {
      "cell_type": "code",
      "metadata": {
        "colab": {
          "base_uri": "https://localhost:8080/"
        },
        "id": "00dnVCTB7s4k",
        "outputId": "b9805cf9-8d58-4019-e9a4-0954b7705310"
      },
      "source": [
        "# Correlation coefficients between -.20 and .20 are generally considered weak, \n",
        "# between .20 and .50 (positive or negative) are considered moderate, \n",
        "# and above .50 (positive or negative) are considered strong.\n",
        "# calculating pearson coefficient\n",
        "# between postal code and bluecars taken\n",
        "df_autolib[\"postal_code\"].corr(df_autolib[\"bluecars_taken_sum\"], method=\"pearson\") "
      ],
      "execution_count": null,
      "outputs": [
        {
          "output_type": "execute_result",
          "data": {
            "text/plain": [
              "-0.6980199787851211"
            ]
          },
          "metadata": {
            "tags": []
          },
          "execution_count": 17
        }
      ]
    },
    {
      "cell_type": "code",
      "metadata": {
        "colab": {
          "base_uri": "https://localhost:8080/"
        },
        "id": "gNgEMvgv7svV",
        "outputId": "fd029720-d56c-4f01-994a-6d0730b92fa6"
      },
      "source": [
        "# calculating pearson coefficient\n",
        "# between postal code and bluecars returned\n",
        "df_autolib[\"postal_code\"].corr(df_autolib[\"bluecars_returned_sum\"], method=\"pearson\") "
      ],
      "execution_count": null,
      "outputs": [
        {
          "output_type": "execute_result",
          "data": {
            "text/plain": [
              "-0.6975194190809514"
            ]
          },
          "metadata": {
            "tags": []
          },
          "execution_count": 18
        }
      ]
    },
    {
      "cell_type": "code",
      "metadata": {
        "colab": {
          "base_uri": "https://localhost:8080/"
        },
        "id": "e8LUgoIA832b",
        "outputId": "e886ef6f-6384-45de-a9dc-5aee46551851"
      },
      "source": [
        "# correlation between day of week and the bluecars taken\n",
        "df_autolib['dayofweek'].corr(df_autolib['bluecars_taken_sum'], method='pearson')"
      ],
      "execution_count": null,
      "outputs": [
        {
          "output_type": "execute_result",
          "data": {
            "text/plain": [
              "0.07964926759308409"
            ]
          },
          "metadata": {
            "tags": []
          },
          "execution_count": 20
        }
      ]
    },
    {
      "cell_type": "code",
      "metadata": {
        "colab": {
          "base_uri": "https://localhost:8080/"
        },
        "id": "LfBnFqLb7spq",
        "outputId": "19651ad6-f8af-4aa7-f640-20e65facc23e"
      },
      "source": [
        "# correlation btwn day of week and cars returned\n",
        "df_autolib['dayofweek'].corr(df_autolib['bluecars_returned_sum'], method='pearson')"
      ],
      "execution_count": null,
      "outputs": [
        {
          "output_type": "execute_result",
          "data": {
            "text/plain": [
              "0.08195445794154736"
            ]
          },
          "metadata": {
            "tags": []
          },
          "execution_count": 21
        }
      ]
    },
    {
      "cell_type": "code",
      "metadata": {
        "colab": {
          "base_uri": "https://localhost:8080/",
          "height": 561
        },
        "id": "MY5NInjR7Xl2",
        "outputId": "015c8c6c-138d-4e09-9e64-164800dcd11b"
      },
      "source": [
        "# Checking which day type blue cars are mostly taken\n",
        "df_autolib.groupby('day_type')['bluecars_taken_sum'].value_counts().unstack(level=0).plot(kind='bar', stacked='True').plot(kind='bar', stacked='True')\n",
        "\n",
        "labels = df_autolib.groupby('day_type')['bluecars_taken_sum'].value_counts(normalize=True)\n",
        "print(labels)\n",
        "# # Rotating our x axis ticks\n",
        "plt.xticks(rotation = 45)\n",
        "\n",
        "# # Giving our chart a title\n",
        "plt.title(\" most preferred day type for taking a bluecar\", fontsize=14, y=1.015)\n",
        "\n",
        "# # Labeling our y axis\n",
        "plt.ylabel(\"frequency\", fontsize=14, labelpad=15)\n",
        "\n",
        "# # Labeling our x axis\n",
        "plt.xlabel(\"bluecars taken\", fontsize=14, labelpad=15)\n",
        "\n",
        "# # Displaying our chart\n",
        "plt.show()"
      ],
      "execution_count": null,
      "outputs": [
        {
          "output_type": "stream",
          "text": [
            "day_type  bluecars_taken_sum\n",
            "weekday   12                    0.018105\n",
            "          9                     0.017498\n",
            "          11                    0.017412\n",
            "          10                    0.017065\n",
            "          14                    0.016719\n",
            "                                  ...   \n",
            "weekend   1327                  0.000220\n",
            "          1330                  0.000220\n",
            "          1335                  0.000220\n",
            "          1338                  0.000220\n",
            "          1352                  0.000220\n",
            "Name: bluecars_taken_sum, Length: 1533, dtype: float64\n"
          ],
          "name": "stdout"
        },
        {
          "output_type": "display_data",
          "data": {
            "image/png": "[encoded data removed]",
            "text/plain": [
              "<Figure size 432x288 with 1 Axes>"
            ]
          },
          "metadata": {
            "tags": [],
            "needs_background": "light"
          }
        }
      ]
    },
    {
      "cell_type": "code",
      "metadata": {
        "id": "JFMcwXTm-m5A"
      },
      "source": [
        ""
      ],
      "execution_count": null,
      "outputs": []
    },
    {
      "cell_type": "markdown",
      "metadata": {
        "id": "k003YiZz_V5O"
      },
      "source": [
        "# Hypothesis Testing"
      ]
    },
    {
      "cell_type": "markdown",
      "metadata": {
        "id": "JNDbqqGGua9g"
      },
      "source": [
        "## Normality tests using Shapiro"
      ]
    },
    {
      "cell_type": "code",
      "metadata": {
        "colab": {
          "base_uri": "https://localhost:8080/"
        },
        "id": "FFhYmYqPuuFe",
        "outputId": "9a0dca7d-e8fd-4a23-e8f8-fb3bc0bcd6d9"
      },
      "source": [
        "# imporing the shapiro function\n",
        "from scipy.stats import shapiro\n",
        "\n",
        "stat, p = shapiro(df_autolib['bluecars_taken_sum'])\n",
        "print('Statistics=%.3f, p=%.3f' %(stat, p))\n",
        "\n",
        "alpha=0.05\n",
        "if p>alpha:\n",
        "  print('sample looks Gaussian')\n",
        "else:\n",
        "    print('sample does not look Gaussian')"
      ],
      "execution_count": null,
      "outputs": [
        {
          "output_type": "stream",
          "text": [
            "Statistics=0.661, p=0.000\n",
            "sample does not look Gaussian\n"
          ],
          "name": "stdout"
        },
        {
          "output_type": "stream",
          "text": [
            "/usr/local/lib/python3.7/dist-packages/scipy/stats/morestats.py:1676: UserWarning: p-value may not be accurate for N > 5000.\n",
            "  warnings.warn(\"p-value may not be accurate for N > 5000.\")\n"
          ],
          "name": "stderr"
        }
      ]
    },
    {
      "cell_type": "code",
      "metadata": {
        "colab": {
          "base_uri": "https://localhost:8080/"
        },
        "id": "1kZ_bNf8yiEu",
        "outputId": "d91c240e-cdcd-4318-fd91-2d1c654890fc"
      },
      "source": [
        "stat, p = shapiro(df_autolib['bluecars_returned_sum'])\n",
        "print('Statistics=%.3f, p=%.3f' %(stat, p))\n",
        "\n",
        "alpha=0.05\n",
        "if p>alpha:\n",
        "  print('sample looks Gaussian')\n",
        "else:\n",
        "    print('sample does not look Gaussian')"
      ],
      "execution_count": null,
      "outputs": [
        {
          "output_type": "stream",
          "text": [
            "Statistics=0.660, p=0.000\n",
            "sample does not look Gaussian\n"
          ],
          "name": "stdout"
        },
        {
          "output_type": "stream",
          "text": [
            "/usr/local/lib/python3.7/dist-packages/scipy/stats/morestats.py:1676: UserWarning: p-value may not be accurate for N > 5000.\n",
            "  warnings.warn(\"p-value may not be accurate for N > 5000.\")\n"
          ],
          "name": "stderr"
        }
      ]
    },
    {
      "cell_type": "code",
      "metadata": {
        "id": "Xx5gZk_7bLXw"
      },
      "source": [
        "# hypothesis\n",
        "#Is the number of bluecars taken in area X different than in area Y?"
      ],
      "execution_count": null,
      "outputs": []
    },
    {
      "cell_type": "code",
      "metadata": {
        "id": "DKujABHZbLGM"
      },
      "source": [
        "#Postal codes 75015 vs 75017"
      ],
      "execution_count": null,
      "outputs": []
    },
    {
      "cell_type": "code",
      "metadata": {
        "id": "lN4R2j6VaMfW"
      },
      "source": [
        "df_autolib_weekday = df_autolib[df_autolib['day_type'] == \"weekday\"]\n",
        "df_autolib_weekend = df_autolib[df_autolib['day_type'] == \"weekend\"]"
      ],
      "execution_count": null,
      "outputs": []
    },
    {
      "cell_type": "code",
      "metadata": {
        "colab": {
          "base_uri": "https://localhost:8080/",
          "height": 197
        },
        "id": "k6lj4udoZ_j6",
        "outputId": "fd8bcebe-92cc-4eca-be35-280d35e3e950"
      },
      "source": [
        "df_autolib_weekday_X = df_autolib_weekday[(df_autolib_weekday['postal_code']==75015)]\n",
        "df_autolib_weekday_X.head()"
      ],
      "execution_count": null,
      "outputs": [
        {
          "output_type": "execute_result",
          "data": {
            "text/html": [
              "<div>\n",
              "<style scoped>\n",
              "    .dataframe tbody tr th:only-of-type {\n",
              "        vertical-align: middle;\n",
              "    }\n",
              "\n",
              "    .dataframe tbody tr th {\n",
              "        vertical-align: top;\n",
              "    }\n",
              "\n",
              "    .dataframe thead th {\n",
              "        text-align: right;\n",
              "    }\n",
              "</style>\n",
              "<table border=\"1\" class=\"dataframe\">\n",
              "  <thead>\n",
              "    <tr style=\"text-align: right;\">\n",
              "      <th></th>\n",
              "      <th>postal_code</th>\n",
              "      <th>date</th>\n",
              "      <th>n_daily_data_points</th>\n",
              "      <th>dayofweek</th>\n",
              "      <th>day_type</th>\n",
              "      <th>bluecars_taken_sum</th>\n",
              "      <th>bluecars_returned_sum</th>\n",
              "    </tr>\n",
              "  </thead>\n",
              "  <tbody>\n",
              "    <tr>\n",
              "      <th>2184</th>\n",
              "      <td>75015</td>\n",
              "      <td>1/1/2018</td>\n",
              "      <td>1440</td>\n",
              "      <td>0</td>\n",
              "      <td>weekday</td>\n",
              "      <td>781</td>\n",
              "      <td>843</td>\n",
              "    </tr>\n",
              "    <tr>\n",
              "      <th>2185</th>\n",
              "      <td>75015</td>\n",
              "      <td>1/2/2018</td>\n",
              "      <td>1438</td>\n",
              "      <td>1</td>\n",
              "      <td>weekday</td>\n",
              "      <td>710</td>\n",
              "      <td>720</td>\n",
              "    </tr>\n",
              "    <tr>\n",
              "      <th>2186</th>\n",
              "      <td>75015</td>\n",
              "      <td>1/3/2018</td>\n",
              "      <td>1439</td>\n",
              "      <td>2</td>\n",
              "      <td>weekday</td>\n",
              "      <td>739</td>\n",
              "      <td>752</td>\n",
              "    </tr>\n",
              "    <tr>\n",
              "      <th>2187</th>\n",
              "      <td>75015</td>\n",
              "      <td>1/4/2018</td>\n",
              "      <td>1320</td>\n",
              "      <td>3</td>\n",
              "      <td>weekday</td>\n",
              "      <td>669</td>\n",
              "      <td>644</td>\n",
              "    </tr>\n",
              "    <tr>\n",
              "      <th>2188</th>\n",
              "      <td>75015</td>\n",
              "      <td>1/5/2018</td>\n",
              "      <td>1440</td>\n",
              "      <td>4</td>\n",
              "      <td>weekday</td>\n",
              "      <td>852</td>\n",
              "      <td>846</td>\n",
              "    </tr>\n",
              "  </tbody>\n",
              "</table>\n",
              "</div>"
            ],
            "text/plain": [
              "      postal_code      date  ...  bluecars_taken_sum  bluecars_returned_sum\n",
              "2184        75015  1/1/2018  ...                 781                    843\n",
              "2185        75015  1/2/2018  ...                 710                    720\n",
              "2186        75015  1/3/2018  ...                 739                    752\n",
              "2187        75015  1/4/2018  ...                 669                    644\n",
              "2188        75015  1/5/2018  ...                 852                    846\n",
              "\n",
              "[5 rows x 7 columns]"
            ]
          },
          "metadata": {
            "tags": []
          },
          "execution_count": 23
        }
      ]
    },
    {
      "cell_type": "code",
      "metadata": {
        "colab": {
          "base_uri": "https://localhost:8080/",
          "height": 197
        },
        "id": "_F2dCkiWZ_X9",
        "outputId": "7756e517-81df-479d-fdad-1d84a6f4bf02"
      },
      "source": [
        "df_autolib_weekday_Y = df_autolib_weekday[df_autolib_weekday['postal_code']==75017]\n",
        "df_autolib_weekday_Y.head()"
      ],
      "execution_count": null,
      "outputs": [
        {
          "output_type": "execute_result",
          "data": {
            "text/html": [
              "<div>\n",
              "<style scoped>\n",
              "    .dataframe tbody tr th:only-of-type {\n",
              "        vertical-align: middle;\n",
              "    }\n",
              "\n",
              "    .dataframe tbody tr th {\n",
              "        vertical-align: top;\n",
              "    }\n",
              "\n",
              "    .dataframe thead th {\n",
              "        text-align: right;\n",
              "    }\n",
              "</style>\n",
              "<table border=\"1\" class=\"dataframe\">\n",
              "  <thead>\n",
              "    <tr style=\"text-align: right;\">\n",
              "      <th></th>\n",
              "      <th>postal_code</th>\n",
              "      <th>date</th>\n",
              "      <th>n_daily_data_points</th>\n",
              "      <th>dayofweek</th>\n",
              "      <th>day_type</th>\n",
              "      <th>bluecars_taken_sum</th>\n",
              "      <th>bluecars_returned_sum</th>\n",
              "    </tr>\n",
              "  </thead>\n",
              "  <tbody>\n",
              "    <tr>\n",
              "      <th>2496</th>\n",
              "      <td>75017</td>\n",
              "      <td>1/1/2018</td>\n",
              "      <td>1440</td>\n",
              "      <td>0</td>\n",
              "      <td>weekday</td>\n",
              "      <td>634</td>\n",
              "      <td>671</td>\n",
              "    </tr>\n",
              "    <tr>\n",
              "      <th>2497</th>\n",
              "      <td>75017</td>\n",
              "      <td>1/2/2018</td>\n",
              "      <td>1438</td>\n",
              "      <td>1</td>\n",
              "      <td>weekday</td>\n",
              "      <td>548</td>\n",
              "      <td>542</td>\n",
              "    </tr>\n",
              "    <tr>\n",
              "      <th>2498</th>\n",
              "      <td>75017</td>\n",
              "      <td>1/3/2018</td>\n",
              "      <td>1439</td>\n",
              "      <td>2</td>\n",
              "      <td>weekday</td>\n",
              "      <td>638</td>\n",
              "      <td>616</td>\n",
              "    </tr>\n",
              "    <tr>\n",
              "      <th>2499</th>\n",
              "      <td>75017</td>\n",
              "      <td>1/4/2018</td>\n",
              "      <td>1320</td>\n",
              "      <td>3</td>\n",
              "      <td>weekday</td>\n",
              "      <td>553</td>\n",
              "      <td>534</td>\n",
              "    </tr>\n",
              "    <tr>\n",
              "      <th>2500</th>\n",
              "      <td>75017</td>\n",
              "      <td>1/5/2018</td>\n",
              "      <td>1440</td>\n",
              "      <td>4</td>\n",
              "      <td>weekday</td>\n",
              "      <td>705</td>\n",
              "      <td>703</td>\n",
              "    </tr>\n",
              "  </tbody>\n",
              "</table>\n",
              "</div>"
            ],
            "text/plain": [
              "      postal_code      date  ...  bluecars_taken_sum  bluecars_returned_sum\n",
              "2496        75017  1/1/2018  ...                 634                    671\n",
              "2497        75017  1/2/2018  ...                 548                    542\n",
              "2498        75017  1/3/2018  ...                 638                    616\n",
              "2499        75017  1/4/2018  ...                 553                    534\n",
              "2500        75017  1/5/2018  ...                 705                    703\n",
              "\n",
              "[5 rows x 7 columns]"
            ]
          },
          "metadata": {
            "tags": []
          },
          "execution_count": 25
        }
      ]
    },
    {
      "cell_type": "code",
      "metadata": {
        "colab": {
          "base_uri": "https://localhost:8080/"
        },
        "id": "O7xrQduiZ_ML",
        "outputId": "64a9d35a-e3ab-4a35-e66f-000df57f5339"
      },
      "source": [
        "#Calculate the p_value and t_statistic for X and Y\n",
        "from scipy.stats import ttest_ind\n",
        "X = df_autolib_weekday_X['bluecars_taken_sum']\n",
        "Y = df_autolib_weekday_Y['bluecars_taken_sum']\n",
        "\n",
        "t_statistic, p_value = ttest_ind(X, Y)\n",
        "print(f\"p_value:{p_value}\")\n",
        "print(f\"t_statistic:{t_statistic}\")\n",
        "\n",
        "if p_value <0.05:\n",
        "  print(\"we reject null hypothesis\")\n",
        "else:\n",
        "  print(\"we accept null hypothesis\")"
      ],
      "execution_count": 27,
      "outputs": [
        {
          "output_type": "stream",
          "text": [
            "p_value:3.002886655703988e-17\n",
            "t_statistic:9.184511095694013\n",
            "we reject null hypothesis\n"
          ],
          "name": "stdout"
        }
      ]
    },
    {
      "cell_type": "code",
      "metadata": {
        "id": "ZgsV133oZ-9U"
      },
      "source": [
        ""
      ],
      "execution_count": null,
      "outputs": []
    }
  ]
}